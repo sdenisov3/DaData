{
 "cells": [
  {
   "cell_type": "code",
   "execution_count": null,
   "metadata": {},
   "outputs": [],
   "source": [
    "#!pip install torch\n",
    "import sqlite3\n",
    "import torch\n",
    "from torch import nn, optim\n",
    "from torch.nn.utils.rnn import pad_sequence\n",
    "import pandas as pd\n",
    "import numpy as np"
   ]
  },
  {
   "cell_type": "code",
   "execution_count": null,
   "metadata": {},
   "outputs": [],
   "source": [
    "import torch\n",
    "from torch import nn, optim\n",
    "from torch.nn.utils.rnn import pad_sequence\n",
    "from torch.utils.data import random_split"
   ]
  },
  {
   "cell_type": "code",
   "execution_count": null,
   "metadata": {},
   "outputs": [],
   "source": [
    "# Создаем соединение с базой данных\n",
    "conn = sqlite3.connect('garpix_db_0.0.2.db')"
   ]
  },
  {
   "cell_type": "code",
   "execution_count": null,
   "metadata": {},
   "outputs": [],
   "source": [
    "# Формируем DataFrame  \n",
    "df = pd.read_sql_query(\"\"\"\n",
    "    SELECT\n",
    "        dr.calculation_id,\n",
    "\t\tb.size_width, \n",
    "\t\tb.size_height, \n",
    "\t\tb.size_length,\n",
    "\"\"\", conn)\n",
    "print(df.head())"
   ]
  },
  {
   "cell_type": "code",
   "execution_count": null,
   "metadata": {},
   "outputs": [],
   "source": [
    "grouped_df = df.groupby('calculation_id').agg(list)\n",
    "grouped_df.groupby('calculation_id').agg(pd.Series.tolist)\n",
    "grouped_df = df.groupby('calculation_id')[['size_width', 'size_height', 'size_length']].agg(list)"
   ]
  },
  {
   "cell_type": "code",
   "execution_count": null,
   "metadata": {},
   "outputs": [],
   "source": [
    "temp_index = [index for index in grouped_df['size_width'].index]\n",
    "temp_index"
   ]
  },
  {
   "cell_type": "code",
   "execution_count": null,
   "metadata": {},
   "outputs": [],
   "source": [
    "def get_data_index_1(index):\n",
    "\ttemp_1 = []\n",
    "\tlen_temp = len(grouped_df['size_width'][index])\n",
    "\tfor len_x in range(len_temp):\n",
    "\t\ttemp_1 = temp_1 + [grouped_df['size_width'][index][len_x], grouped_df['size_height'][index][len_x], grouped_df['size_length'][index][len_x]]\n",
    "\treturn temp_1"
   ]
  },
  {
   "cell_type": "code",
   "execution_count": null,
   "metadata": {},
   "outputs": [],
   "source": [
    "# Наконец, создаем список тензоров из этих списков значений size_width.\n",
    "data_x =  [torch.tensor(get_data_index_1(index)) for index in temp_index] # + \\\n",
    "    #      [torch.tensor(get_data_index_2(index)) for index in temp_index] + \\\n",
    "     #     [torch.tensor(get_data_index_3(index)) for index in temp_index]\n",
    "for x in range(0, len(data_x)):\n",
    "\tdata_x[x] = data_x[x].to(torch.float)\n",
    "\tdata_x[x] = data_x[x] / data_x[x].max()\n"
   ]
  },
  {
   "cell_type": "code",
   "execution_count": null,
   "metadata": {},
   "outputs": [],
   "source": [
    "data_y = pad_sequence(data_x, batch_first=True)"
   ]
  },
  {
   "cell_type": "code",
   "execution_count": null,
   "metadata": {},
   "outputs": [],
   "source": [
    "resuld_df = df.groupby('calculation_id')['density_percent'].agg(list)"
   ]
  },
  {
   "cell_type": "code",
   "execution_count": null,
   "metadata": {},
   "outputs": [],
   "source": [
    "# Создаем np.array уникальных значений filling_space_percent для каждого calculation_id\n",
    "result =  [[x[0]] for x in resuld_df.values]# + [[x[0]] for x in resuld_df.values] + [[x[0]] for x in resuld_df.values]\n",
    "result_data = np.array(result)\n",
    "for x in range(0, len(result_data)):\n",
    "\tresult_data[x] = result_data[x]\n",
    "\tresult_data[x] = result_data[x] / 100.\n",
    "result_data"
   ]
  },
  {
   "cell_type": "code",
   "execution_count": null,
   "metadata": {},
   "outputs": [],
   "source": [
    "# Определяется модель Net - это нейронная сеть, \n",
    "# состоящая из слоя RNN (рекуррентная нейронная сеть) и полносвязного слоя. \n",
    "# Скрытый размерность RNN равен 16, а входной размерность равна 1.\n",
    "# Модель использует функцию активации по умолчанию.\n",
    "class Net(nn.Module):\n",
    "# В конструкторе класса мы определяем наши слои: nn.RNN и nn.Linear. \n",
    "# Эти слои будут использоваться при проходе данных через модель. \n",
    "# Здесь мы указываем, что на входе имеем 1 признак, \n",
    "# размер скрытого состояния RNN равен 16, \n",
    "# а архитектура сети предполагает использование batch_first=True, \n",
    "# то есть размерность первой оси является размером пакета.\n",
    "    def __init__(self):\n",
    "        super(Net, self).__init__()\n",
    "        self.rnn = nn.RNN(input_size=1, hidden_size=8, batch_first=True)\n",
    "        self.fc = nn.Linear(8, 1)\n",
    "\n",
    "# Функция forward принимает входной тензор x, \n",
    "# пропускает его через слой RNN, \n",
    "# получает выходной тензор и пропускает его через полносвязный слой, \n",
    "# чтобы получить выходной тензор.\n",
    "    def forward(self, x):\n",
    "        output, _ = self.rnn(x)\n",
    "        x = self.fc(output[:, -1, :])\n",
    "        return x.squeeze()  # удаляем избыточные размерности"
   ]
  },
  {
   "cell_type": "code",
   "execution_count": null,
   "metadata": {},
   "outputs": [],
   "source": [
    "model = Net()\n",
    "# определяется устройство, на котором будет проходить обучение модели (GPU или CPU).\n",
    "device = torch.device(\"cuda\" if torch.cuda.is_available() else \"cpu\")\n",
    "#device = \"cpu\"\n",
    "model.to(device)"
   ]
  },
  {
   "cell_type": "code",
   "execution_count": null,
   "metadata": {},
   "outputs": [],
   "source": [
    "device"
   ]
  },
  {
   "cell_type": "code",
   "execution_count": null,
   "metadata": {},
   "outputs": [],
   "source": [
    "# Определение функции потерь и оптимизатора\n",
    "# Определяется функция потерь (criterion) - это среднеквадратичная ошибка (MSE).\n",
    "#criterion = nn.MSELoss()\n",
    "criterion = nn.L1Loss()\n",
    "# Определяется оптимизатор (optimizer) - \n",
    "# это алгоритм Adam с коэффициентом обучения 0.001, \n",
    "# который будет использоваться для обновления параметров модели.\n",
    "#optimizer = optim.Adam(model.parameters(), lr=0.001)\n",
    "optimizer = optim.SGD(model.parameters(), lr=0.001)"
   ]
  },
  {
   "cell_type": "code",
   "execution_count": null,
   "metadata": {},
   "outputs": [],
   "source": [
    "import numpy as np\n",
    "num_samples = 1000\n",
    "data = []\n",
    "for i in range(len(data_x)):\n",
    "    tmp = torch.from_numpy(data_y[i].numpy()).reshape(8547,1)\n",
    "    data.append(tmp.float().to(device),)"
   ]
  },
  {
   "cell_type": "code",
   "execution_count": null,
   "metadata": {},
   "outputs": [],
   "source": [
    "# Генерируется синтетический набор данных для обучения - это список data, \n",
    "# который состоит из 1000 тензоров, \n",
    "# каждый из которых имеет случайный размер от 3 до 10 и \n",
    "# содержит случайные числа от 0 до 100. \n",
    "# Каждый тензор data заполняется нулями до максимальной длины, \n",
    "# чтобы все тензоры имели одинаковую длину. \n",
    "# Кроме того, создается тензор меток labels, \n",
    "# который состоит из 1000 случайных чисел от 0 до 100.\n",
    "data_tensor = pad_sequence(data, batch_first=True)  # заполняем более короткие тензоры нулями"
   ]
  },
  {
   "cell_type": "code",
   "execution_count": null,
   "metadata": {},
   "outputs": [],
   "source": [
    "data_tensor.to(device)"
   ]
  },
  {
   "cell_type": "code",
   "execution_count": null,
   "metadata": {},
   "outputs": [],
   "source": [
    "# перемещение labels на устройство обусловлено тем, \n",
    "# что он используется в вычислении функции потерь, \n",
    "# которая определена на устройстве.\n",
    "labels = torch.from_numpy(result_data).float().to(device)"
   ]
  },
  {
   "cell_type": "code",
   "execution_count": null,
   "metadata": {},
   "outputs": [],
   "source": [
    "# изменяем размерность целевого тензора\n",
    "# Аргумент -1 в данном случае означает, \n",
    "# что размерность должна быть вычислена автоматически \n",
    "# на основе других размерностей тензора.\n",
    "labels = labels.view(-1)"
   ]
  },
  {
   "cell_type": "code",
   "execution_count": null,
   "metadata": {},
   "outputs": [],
   "source": [
    "test_dataset = data_tensor\n",
    "test_target = labels"
   ]
  },
  {
   "cell_type": "code",
   "execution_count": null,
   "metadata": {},
   "outputs": [],
   "source": [
    "import statistics"
   ]
  }
 ],
 "metadata": {
  "language_info": {
   "name": "python"
  },
  "orig_nbformat": 4
 },
 "nbformat": 4,
 "nbformat_minor": 2
}
