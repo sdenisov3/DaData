{
 "cells": [
  {
   "cell_type": "code",
   "execution_count": 28,
   "metadata": {},
   "outputs": [],
   "source": [
    "#!pip install torch\n",
    "import sqlite3\n",
    "import torch\n",
    "from torch import nn, optim\n",
    "from torch.nn.utils.rnn import pad_sequence\n",
    "import pandas as pd\n",
    "import numpy as np\n",
    "import statistics\n",
    "import torch\n",
    "from torch import nn, optim\n",
    "from torch.nn.utils.rnn import pad_sequence\n",
    "from torch.utils.data import random_split"
   ]
  },
  {
   "cell_type": "code",
   "execution_count": 4,
   "metadata": {},
   "outputs": [],
   "source": [
    "# Создаем соединение с базой данных\n",
    "conn = sqlite3.connect('garpix_db_0.0.2.db')"
   ]
  },
  {
   "cell_type": "code",
   "execution_count": 12,
   "metadata": {},
   "outputs": [
    {
     "name": "stdout",
     "output_type": "stream",
     "text": [
      "   calculation_id  size_width  size_height  size_length\n",
      "0           16900        98.0        143.0        385.0\n",
      "1           16900       196.0        198.0        363.0\n",
      "2           16900       277.0        190.0        407.0\n",
      "3           16900       170.0        325.0        255.0\n",
      "4           16900       250.0        350.0        160.0\n"
     ]
    }
   ],
   "source": [
    "# Формируем DataFrame  \n",
    "df = pd.read_sql_query(\"\"\"\n",
    "    SELECT\n",
    "       calculation_id,\n",
    "       size_width, \n",
    "       size_height, \n",
    "       size_length\n",
    "    FROM boxes\n",
    "\"\"\", conn)\n",
    "print(df.head())"
   ]
  },
  {
   "cell_type": "code",
   "execution_count": 22,
   "metadata": {},
   "outputs": [],
   "source": [
    "grouped_df = df.groupby('calculation_id').agg(list)\n",
    "grouped_df.groupby('calculation_id').agg(pd.Series.tolist)\n",
    "grouped_df = df.groupby('calculation_id')[['size_width', 'size_height', 'size_length']].agg(list)\n",
    "temp_index = [index for index in grouped_df['size_width'].index]\n",
    "def get_data_index_1(index):\n",
    "\ttemp_1 = []\n",
    "\tlen_temp = len(grouped_df['size_width'][index])\n",
    "\tfor len_x in range(len_temp):\n",
    "\t\ttemp_1 = temp_1 + [grouped_df['size_width'][index][len_x], grouped_df['size_height'][index][len_x], grouped_df['size_length'][index][len_x]]\n",
    "\treturn temp_1\n",
    "\n",
    "data_x =  [torch.tensor(get_data_index_1(index)) for index in temp_index]\n",
    "for x in range(0, len(data_x)):\n",
    "\tdata_x[x] = data_x[x].to(torch.float)\n",
    "\tdata_x[x] = data_x[x] / data_x[x].max()\n",
    "data_y = pad_sequence(data_x, batch_first=True)"
   ]
  },
  {
   "cell_type": "code",
   "execution_count": 23,
   "metadata": {},
   "outputs": [],
   "source": [
    "class Net(nn.Module):\n",
    "    def __init__(self):\n",
    "        super(Net, self).__init__()\n",
    "        self.rnn = nn.RNN(input_size=1, hidden_size=8, batch_first=True)\n",
    "        self.fc = nn.Linear(8, 1)\n",
    "    def forward(self, x):\n",
    "        output, _ = self.rnn(x)\n",
    "        x = self.fc(output[:, -1, :])\n",
    "        return x.squeeze()"
   ]
  },
  {
   "cell_type": "code",
   "execution_count": 27,
   "metadata": {},
   "outputs": [
    {
     "data": {
      "text/plain": [
       "tensor([[[0.4925],\n",
       "         [0.7814],\n",
       "         [0.8141],\n",
       "         ...,\n",
       "         [0.0000],\n",
       "         [0.0000],\n",
       "         [0.0000]],\n",
       "\n",
       "        [[0.7500],\n",
       "         [0.6250],\n",
       "         [1.0000],\n",
       "         ...,\n",
       "         [0.0000],\n",
       "         [0.0000],\n",
       "         [0.0000]],\n",
       "\n",
       "        [[0.5161],\n",
       "         [1.0000],\n",
       "         [0.7742],\n",
       "         ...,\n",
       "         [0.0000],\n",
       "         [0.0000],\n",
       "         [0.0000]],\n",
       "\n",
       "        ...,\n",
       "\n",
       "        [[1.0000],\n",
       "         [1.0000],\n",
       "         [1.0000],\n",
       "         ...,\n",
       "         [0.0000],\n",
       "         [0.0000],\n",
       "         [0.0000]],\n",
       "\n",
       "        [[1.0000],\n",
       "         [1.0000],\n",
       "         [1.0000],\n",
       "         ...,\n",
       "         [0.0000],\n",
       "         [0.0000],\n",
       "         [0.0000]],\n",
       "\n",
       "        [[1.0000],\n",
       "         [1.0000],\n",
       "         [1.0000],\n",
       "         ...,\n",
       "         [0.0000],\n",
       "         [0.0000],\n",
       "         [0.0000]]], device='cuda:0')"
      ]
     },
     "execution_count": 27,
     "metadata": {},
     "output_type": "execute_result"
    }
   ],
   "source": [
    "model = Net()\n",
    "device = torch.device(\"cuda\" if torch.cuda.is_available() else \"cpu\")\n",
    "#device = \"cpu\"\n",
    "model.to(device)\n",
    "\n",
    "num_samples = 1000\n",
    "data = []\n",
    "for i in range(len(data_x)):\n",
    "    tmp = torch.from_numpy(data_y[i].numpy()).reshape(8547,1)\n",
    "    data.append(tmp.float().to(device),)\n",
    "data_tensor = pad_sequence(data, batch_first=True)\n",
    "data_tensor.to(device)"
   ]
  },
  {
   "cell_type": "code",
   "execution_count": null,
   "metadata": {},
   "outputs": [],
   "source": [
    "\n",
    "model = torch.load('model_result_5.pt')"
   ]
  }
 ],
 "metadata": {
  "kernelspec": {
   "display_name": "Python 3 (ipykernel)",
   "language": "python",
   "name": "python3"
  },
  "language_info": {
   "codemirror_mode": {
    "name": "ipython",
    "version": 3
   },
   "file_extension": ".py",
   "mimetype": "text/x-python",
   "name": "python",
   "nbconvert_exporter": "python",
   "pygments_lexer": "ipython3",
   "version": "3.9.12"
  },
  "orig_nbformat": 4
 },
 "nbformat": 4,
 "nbformat_minor": 2
}
